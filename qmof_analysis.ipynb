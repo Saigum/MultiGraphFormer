{
 "cells": [
  {
   "cell_type": "code",
   "execution_count": 2,
   "metadata": {},
   "outputs": [],
   "source": [
    "import pandas as pd\n",
    "import json\n",
    "import rdkit as rd \n",
    "import pymatgen as pm\n",
    "from pymatgen.core import Structure"
   ]
  },
  {
   "cell_type": "code",
   "execution_count": 2,
   "metadata": {},
   "outputs": [
    {
     "name": "stderr",
     "output_type": "stream",
     "text": [
      "/tmp/ipykernel_1462/1915904929.py:1: DtypeWarning: Columns (40,41,43,44,45,46,47,49,50,51,52,53,55,56,57,65,66,67,68,69,77,78,79,80,81,89,90,91,92,93) have mixed types. Specify dtype option on import or set low_memory=False.\n",
      "  qmof_attrs = pd.read_csv(\"qmof_database/qmof_database/qmof.csv\")\n"
     ]
    }
   ],
   "source": [
    "qmof_attrs = pd.read_csv(\"qmof_database/qmof_database/qmof.csv\")\n"
   ]
  },
  {
   "cell_type": "code",
   "execution_count": null,
   "metadata": {},
   "outputs": [],
   "source": [
    "import os\n",
    "import json\n",
    "\n",
    "import torch\n",
    "from torch_geometric.data import InMemoryDataset, Data\n",
    "from torch_geometric.nn import radius_graph\n",
    "from pymatgen.core import Structure\n",
    "\n",
    "\n",
    "class QMOF(InMemoryDataset):\n",
    "    raw_file_names = ['qmof_structure_data.json']\n",
    "    processed_file_names = ['data.pt']\n",
    "\n",
    "    def __init__(self, root, transform=None, pre_transform=None,\n",
    "                 pre_filter=None, cutoff: float = 5.0):\n",
    "        \"\"\"\n",
    "        Args:\n",
    "            root (str): Root directory. Expects\n",
    "                root/raw/qmof_structure_data.json\n",
    "            cutoff (float): radius (in Å) for connecting edges\n",
    "        \"\"\"\n",
    "        self.cutoff = cutoff\n",
    "        super().__init__(root, transform, pre_transform, pre_filter)\n",
    "        # Load processed data\n",
    "        self.data, self.slices = torch.load(self.processed_paths[0])\n",
    "\n",
    "    @property\n",
    "    def raw_dir(self):\n",
    "        return os.path.join(self.root, 'qmof_database')\n",
    "\n",
    "    @property\n",
    "    def processed_dir(self):\n",
    "        return os.path.join(self.root, 'processed')\n",
    "\n",
    "    def download(self):\n",
    "        # Nothing to download; assume your qmof_structure_data.json\n",
    "        # is already in raw_dir.\n",
    "        pass\n",
    "\n",
    "    def process(self):\n",
    "        # 1) Load your JSON\n",
    "        path = os.path.join(self.raw_dir, self.raw_file_names[0])\n",
    "        with open(path) as f:\n",
    "            struct_list = json.load(f)\n",
    "\n",
    "        # 2) Build lookup tables\n",
    "        self.ID2NAME = {\n",
    "            d['qmof_id']: d['name']\n",
    "            for d in struct_list\n",
    "        }\n",
    "        self.STRUCTURE_DATA = {\n",
    "            d['qmof_id']: d['structure']\n",
    "            for d in struct_list\n",
    "        }\n",
    "\n",
    "        # 3) Convert each entry to a torch_geometric.data.Data\n",
    "        data_list = []\n",
    "        for mol_id, struct_dict in self.STRUCTURE_DATA.items():\n",
    "            data = self.get_graph(mol_id)\n",
    "            if self.pre_filter and not self.pre_filter(data):\n",
    "                continue\n",
    "            if self.pre_transform:\n",
    "                data = self.pre_transform(data)\n",
    "            data_list.append(data)\n",
    "\n",
    "        # 4) Collate & save\n",
    "        data, slices = self.collate(data_list)\n",
    "        torch.save((data, slices), self.processed_paths[0])\n",
    "\n",
    "    def get_graph(self, mol_id) -> Data:\n",
    "        # Reconstruct the Pymatgen Structure\n",
    "        struct = Structure.from_dict(self.STRUCTURE_DATA[mol_id])\n",
    "        coords = torch.tensor(struct.cart_coords, dtype=torch.float)  # [N,3]\n",
    "\n",
    "        # Simple node feature: atomic number\n",
    "        z = torch.tensor([site.specie.Z for site in struct], dtype=torch.long)\n",
    "        x = z.view(-1, 1).to(torch.float)\n",
    "\n",
    "        # Build edges by radius_graph\n",
    "        edge_index = radius_graph(coords, r=self.cutoff, loop=False,\n",
    "                                  max_num_neighbors=32)\n",
    "        # Edge attr = distance\n",
    "        row, col = edge_index\n",
    "        edge_attr = (coords[row] - coords[col]).norm(dim=1, keepdim=True)\n",
    "\n",
    "        data = Data(\n",
    "            x=x,\n",
    "            pos=coords,\n",
    "            edge_index=edge_index,\n",
    "            edge_attr=edge_attr,\n",
    "            mol_id=mol_id,\n",
    "            name=self.ID2NAME[mol_id]\n",
    "        )\n",
    "        return data\n"
   ]
  },
  {
   "cell_type": "code",
   "execution_count": null,
   "metadata": {},
   "outputs": [],
   "source": [
    "with open(\"qmof_database/qmof_database/qmof_structure_data.json\") as f:\n",
    "    struct_data = json.load(f)\n"
   ]
  },
  {
   "cell_type": "code",
   "execution_count": null,
   "metadata": {},
   "outputs": [],
   "source": [
    "structure0 = Structure.from_dict(struct_data[0][\"structure\"])"
   ]
  },
  {
   "cell_type": "code",
   "execution_count": null,
   "metadata": {},
   "outputs": [],
   "source": []
  }
 ],
 "metadata": {
  "kernelspec": {
   "display_name": "cchem",
   "language": "python",
   "name": "python3"
  },
  "language_info": {
   "codemirror_mode": {
    "name": "ipython",
    "version": 3
   },
   "file_extension": ".py",
   "mimetype": "text/x-python",
   "name": "python",
   "nbconvert_exporter": "python",
   "pygments_lexer": "ipython3",
   "version": "3.10.16"
  }
 },
 "nbformat": 4,
 "nbformat_minor": 2
}
