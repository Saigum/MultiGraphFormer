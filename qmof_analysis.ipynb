{
 "cells": [
  {
   "cell_type": "code",
   "execution_count": 7,
   "metadata": {},
   "outputs": [],
   "source": [
    "import pandas as pd\n",
    "import json\n",
    "import rdkit as rd \n",
    "import pymatgen as pm\n",
    "from pymatgen.core import Structure"
   ]
  },
  {
   "cell_type": "code",
   "execution_count": 21,
   "metadata": {},
   "outputs": [
    {
     "name": "stderr",
     "output_type": "stream",
     "text": [
      "/tmp/ipykernel_8083/3081914008.py:1: DtypeWarning: Columns (40,41,43,44,45,46,47,49,50,51,52,53,55,56,57,65,66,67,68,69,77,78,79,80,81,89,90,91,92,93) have mixed types. Specify dtype option on import or set low_memory=False.\n",
      "  qmof_attrs = pd.read_csv(\"/scratch/saigum/qmof_database/qmof_database/qmof.csv\")\n"
     ]
    }
   ],
   "source": [
    "qmof_attrs = pd.read_csv(\"/scratch/saigum/qmof_database/qmof_database/qmof.csv\")"
   ]
  },
  {
   "cell_type": "code",
   "execution_count": null,
   "metadata": {},
   "outputs": [],
   "source": [
    "with open(\"/scratch/saigum/qmof_database/qmof_database/qmof_structure_data.json\") as f:\n",
    "    struct_data = json.load(f)\n",
    "qmof_structs = {}\n",
    "for entry in struct_data:\n",
    "    qmof_structs[entry['qmof_id']] = Structure.from_dict(entry['structure'])"
   ]
  },
  {
   "cell_type": "code",
   "execution_count": null,
   "metadata": {},
   "outputs": [],
   "source": [
    "\n",
    "class QMOF():\n",
    "    def __init__(self,root_path:str):\n",
    "        with open(f\"{root_path}/qmof_structure_data.json\") as f:\n",
    "            STRUCTURE_DATA = json.load(f)\n",
    "            self.ID2NAME = {STRUCTURE_DATA[i][\"qmof_id\"]:STRUCTURE_DATA[i][\"name\"]\n",
    "                               for i in range(len(STRUCTURE_DATA)) }\n",
    "            self.STRUCTURE_DATA = {STRUCTURE_DATA[i][\"qmof_id\"]:STRUCTURE_DATA[i][\"structure\"]\n",
    "                               for i in range(len(STRUCTURE_DATA)) }\n",
    "        \n",
    "            \n",
    "    def get_graph(self,mol_id):\n",
    "        STRUCTURE = Structure.from_dict(self.STRUCTURE_DATA[mol_id][\"structure\"])\n",
    "        ## now to construct node featurues\n",
    "        coords = STRUCTURE.cart_coords\n",
    "        \n",
    "\n"
   ]
  },
  {
   "cell_type": "code",
   "execution_count": null,
   "metadata": {},
   "outputs": [],
   "source": []
  },
  {
   "cell_type": "code",
   "execution_count": 2,
   "metadata": {},
   "outputs": [],
   "source": [
    "import json\n",
    "fp =open(\"/scratch/saigum/qmof_database/qmof_database/qmof_structure_data.json\",\"r\") \n",
    "STRUCTURE_DATA = json.load(fp)"
   ]
  },
  {
   "cell_type": "code",
   "execution_count": 8,
   "metadata": {},
   "outputs": [],
   "source": [
    "structure = Structure.from_dict(STRUCTURE_DATA[0][\"structure\"])"
   ]
  },
  {
   "cell_type": "code",
   "execution_count": 9,
   "metadata": {},
   "outputs": [
    {
     "data": {
      "text/plain": [
       "array([[ 1.22089,  5.19252,  4.035  ],\n",
       "       [ 6.1393 ,  1.87981,  7.94192],\n",
       "       [ 0.78236,  7.07112,  9.75828],\n",
       "       [ 4.62932,  6.39495,  2.83247],\n",
       "       [ 2.73088,  0.67737,  9.14446],\n",
       "       [ 0.31647,  2.58806,  1.15508],\n",
       "       [ 7.04372,  4.48423, 10.8218 ],\n",
       "       [ 3.31973,  2.81282,  2.49573],\n",
       "       [ 4.04046,  4.2595 ,  9.48113],\n",
       "       [ 2.3254 ,  0.40517,  4.56399],\n",
       "       [ 5.03481,  6.66717,  7.41299],\n",
       "       [ 2.70658,  6.55707,  6.76615],\n",
       "       [ 4.6536 ,  0.51526,  5.21081],\n",
       "       [ 2.79833,  2.45871,  4.87236],\n",
       "       [ 4.56186,  4.61359,  7.10456],\n",
       "       [ 2.62076,  2.86113,  6.37909],\n",
       "       [ 4.73942,  4.21126,  5.59782],\n",
       "       [ 4.91868,  5.71021,  3.65155],\n",
       "       [ 2.44153,  1.36212,  8.32538],\n",
       "       [ 0.51119,  1.94678,  2.03696],\n",
       "       [ 6.84901,  5.12555,  9.93994],\n",
       "       [ 4.01548,  1.98852,  2.76232],\n",
       "       [ 3.3447 ,  5.08381,  9.21457],\n",
       "       [ 6.14282,  5.76308,  4.04245],\n",
       "       [ 1.21739,  1.30925,  7.93447],\n",
       "       [ 4.06548,  4.9278 ,  4.13139],\n",
       "       [ 3.29472,  2.14456,  7.84558],\n",
       "       [ 0.69648,  2.48017,  3.15435],\n",
       "       [ 6.66366,  4.59218,  8.82254],\n",
       "       [ 0.53817,  0.6772 ,  1.82382],\n",
       "       [ 6.82209,  6.39512, 10.1531 ],\n",
       "       [ 4.91808,  1.70806,  1.92787],\n",
       "       [ 2.44213,  5.36426, 10.04904],\n",
       "       [ 3.81103,  1.42416,  3.89384],\n",
       "       [ 3.54913,  5.64818,  8.08305],\n",
       "       [ 2.35986,  6.97808,  5.93612],\n",
       "       [ 5.00033,  0.09427,  6.04084],\n",
       "       [ 2.21217,  2.98861,  5.48061],\n",
       "       [ 5.14802,  4.08373,  6.49629]])"
      ]
     },
     "execution_count": 9,
     "metadata": {},
     "output_type": "execute_result"
    }
   ],
   "source": [
    "structure.cart_coords"
   ]
  },
  {
   "cell_type": "code",
   "execution_count": null,
   "metadata": {},
   "outputs": [
    {
     "data": {
      "text/plain": [
       "Structure Summary\n",
       "Lattice\n",
       "    abc : 6.9419523112540436 7.17878940055673 8.791651649033692\n",
       " angles : 82.25599709677074 71.35701701555689 81.58285544631552\n",
       " volume : 408.857471262788\n",
       "      A : np.float64(6.577866356) np.float64(0.001198396) np.float64(2.218642526)\n",
       "      B : np.float64(0.78166899) np.float64(7.070336339) np.float64(0.96662035)\n",
       "      C : np.float64(0.000658751) np.float64(0.000799513) np.float64(8.791651588)\n",
       "    pbc : True True True\n",
       "PeriodicSite: Ba (1.221, 5.193, 4.035) [0.0983, 0.7344, 0.3534]\n",
       "PeriodicSite: Ba (6.139, 1.88, 7.942) [0.9017, 0.2656, 0.6466]\n",
       "PeriodicSite: Cu (0.7824, 7.071, 9.758) [5.171e-06, 1.0, 1.0]\n",
       "PeriodicSite: H (4.629, 6.395, 2.832) [0.5963, 0.9044, 0.07226]\n",
       "PeriodicSite: H (2.731, 0.6774, 9.144) [0.4037, 0.09563, 0.9277]\n",
       "PeriodicSite: H (0.3165, 2.588, 1.155) [0.004605, 0.366, 0.08998]\n",
       "PeriodicSite: H (7.044, 4.484, 10.82) [0.9954, 0.634, 0.91]\n",
       "PeriodicSite: H (3.32, 2.813, 2.496) [0.4574, 0.3977, 0.1247]\n",
       "PeriodicSite: H (4.04, 4.26, 9.481) [0.5426, 0.6023, 0.8753]\n",
       "PeriodicSite: H (2.325, 0.4052, 4.564) [0.3467, 0.0572, 0.4254]\n",
       "PeriodicSite: H (5.035, 6.667, 7.413) [0.6533, 0.9428, 0.5747]\n",
       "PeriodicSite: H (2.707, 6.557, 6.766) [0.3012, 0.9273, 0.5916]\n",
       "PeriodicSite: H (4.654, 0.5153, 5.211) [0.6988, 0.07271, 0.4084]\n",
       "PeriodicSite: H (2.798, 2.459, 4.872) [0.3841, 0.3476, 0.4191]\n",
       "PeriodicSite: H (4.562, 4.614, 7.105) [0.6159, 0.6524, 0.5809]\n",
       "PeriodicSite: H (2.621, 2.861, 6.379) [0.3503, 0.4045, 0.5927]\n",
       "PeriodicSite: H (4.739, 4.211, 5.598) [0.6497, 0.5955, 0.4073]\n",
       "PeriodicSite: C (4.919, 5.71, 3.652) [0.6518, 0.8075, 0.1621]\n",
       "PeriodicSite: C (2.442, 1.362, 8.325) [0.3482, 0.1925, 0.8379]\n",
       "PeriodicSite: C (0.5112, 1.947, 2.037) [0.04498, 0.2753, 0.1901]\n",
       "PeriodicSite: C (6.849, 5.126, 9.94) [0.955, 0.7247, 0.8099]\n",
       "PeriodicSite: C (4.015, 1.989, 2.762) [0.577, 0.2811, 0.1377]\n",
       "PeriodicSite: C (3.345, 5.084, 9.215) [0.423, 0.7189, 0.8623]\n",
       "PeriodicSite: O (6.143, 5.763, 4.042) [0.837, 0.8149, 0.159]\n",
       "PeriodicSite: O (1.217, 1.309, 7.934) [0.163, 0.1851, 0.841]\n",
       "PeriodicSite: O (4.065, 4.928, 4.131) [0.5352, 0.6968, 0.2582]\n",
       "PeriodicSite: O (3.295, 2.145, 7.846) [0.4648, 0.3032, 0.7418]\n",
       "PeriodicSite: O (0.6965, 2.48, 3.154) [0.06417, 0.3507, 0.304]\n",
       "PeriodicSite: O (6.664, 4.592, 8.823) [0.9358, 0.6493, 0.696]\n",
       "PeriodicSite: O (0.5382, 0.6772, 1.824) [0.07042, 0.09575, 0.1792]\n",
       "PeriodicSite: O (6.822, 6.395, 10.15) [0.9296, 0.9042, 0.8208]\n",
       "PeriodicSite: O (4.918, 1.708, 1.928) [0.719, 0.2415, 0.0113]\n",
       "PeriodicSite: O (2.442, 5.364, 10.05) [0.281, 0.7585, 0.9887]\n",
       "PeriodicSite: O (3.811, 1.424, 3.894) [0.5554, 0.2013, 0.2806]\n",
       "PeriodicSite: O (3.549, 5.648, 8.083) [0.4446, 0.7987, 0.7194]\n",
       "PeriodicSite: O (2.36, 6.978, 5.936) [0.2414, 0.9869, 0.5058]\n",
       "PeriodicSite: O (5.0, 0.09427, 6.041) [0.7586, 0.01315, 0.4942]\n",
       "PeriodicSite: O (2.212, 2.989, 5.481) [0.286, 0.4226, 0.5047]\n",
       "PeriodicSite: O (5.148, 4.084, 6.496) [0.714, 0.5774, 0.4953]"
      ]
     },
     "execution_count": 18,
     "metadata": {},
     "output_type": "execute_result"
    }
   ],
   "source": [
    "with open('qmof_structure_data.json') as f:\n",
    "    struct_data = json.load(f)\n",
    "qmof_structs = {}\n",
    "for entry in struct_data:\n",
    "    qmof_structs[entry['qmof_id']] = Structure.from_dict(entry['structure'])"
   ]
  },
  {
   "cell_type": "code",
   "execution_count": null,
   "metadata": {},
   "outputs": [],
   "source": [
    "pm.Structure()"
   ]
  },
  {
   "cell_type": "code",
   "execution_count": null,
   "metadata": {},
   "outputs": [],
   "source": [
    "def mol2graph(moljson):\n",
    "    "
   ]
  },
  {
   "cell_type": "code",
   "execution_count": null,
   "metadata": {},
   "outputs": [],
   "source": []
  },
  {
   "cell_type": "code",
   "execution_count": null,
   "metadata": {},
   "outputs": [],
   "source": []
  },
  {
   "cell_type": "code",
   "execution_count": null,
   "metadata": {},
   "outputs": [],
   "source": [
    "cp = open(\"/scratch/saigum/qmof_database/qmof_database/qmof.json\",\"r\")\n",
    "MOF_DATA = json.load(cp)\n",
    "print(STRUCTURE_DATA)"
   ]
  },
  {
   "cell_type": "code",
   "execution_count": null,
   "metadata": {},
   "outputs": [],
   "source": [
    "print(MOF_DATA)"
   ]
  },
  {
   "cell_type": "code",
   "execution_count": null,
   "metadata": {},
   "outputs": [],
   "source": [
    "def mol2graph()"
   ]
  }
 ],
 "metadata": {
  "kernelspec": {
   "display_name": "light",
   "language": "python",
   "name": "python3"
  },
  "language_info": {
   "codemirror_mode": {
    "name": "ipython",
    "version": 3
   },
   "file_extension": ".py",
   "mimetype": "text/x-python",
   "name": "python",
   "nbconvert_exporter": "python",
   "pygments_lexer": "ipython3",
   "version": "3.10.16"
  }
 },
 "nbformat": 4,
 "nbformat_minor": 2
}
